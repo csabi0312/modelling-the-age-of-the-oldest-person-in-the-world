{
  "nbformat": 4,
  "nbformat_minor": 0,
  "metadata": {
    "colab": {
      "provenance": [],
      "include_colab_link": true
    },
    "kernelspec": {
      "name": "python3",
      "display_name": "Python 3"
    },
    "language_info": {
      "name": "python"
    }
  },
  "cells": [
    {
      "cell_type": "markdown",
      "metadata": {
        "id": "view-in-github",
        "colab_type": "text"
      },
      "source": [
        "<a href=\"https://colab.research.google.com/github/csabi0312/modelling-the-age-of-the-oldest-person-in-the-world/blob/main/NM_oldest_person30.ipynb\" target=\"_parent\"><img src=\"https://colab.research.google.com/assets/colab-badge.svg\" alt=\"Open In Colab\"/></a>"
      ]
    },
    {
      "cell_type": "markdown",
      "source": [
        "## Def loglikelihood"
      ],
      "metadata": {
        "id": "oV9_iHZYVZni"
      }
    },
    {
      "cell_type": "code",
      "execution_count": null,
      "metadata": {
        "id": "fXlLAX5Hc4JB"
      },
      "outputs": [],
      "source": [
        "import numpy as np\n",
        "import pandas as pd\n",
        "from scipy.integrate import quad\n",
        "from scipy.optimize import minimize\n",
        "import matplotlib.pyplot as plt\n",
        "import copy\n",
        "from tqdm import tqdm\n",
        "\n",
        "def fGGM(x, a, b, c, gamma):\n",
        "    return (np.exp(-c * x) * (1 + (a * (-1 + np.exp(b * x)) * gamma) / b) ** (-((1 + gamma) / gamma)) * (c * (b - a * gamma) + a * np.exp(b * x) * (b + c * gamma))) / b\n",
        "\n",
        "def FGGM(x, a, b, c, gamma):\n",
        "    return np.exp(-c * x) / (1 + a * gamma * (np.exp(b * x) - 1) / b) ** (1 / gamma)\n",
        "\n",
        "listofvalues = [[1955.8138888888889, 113.17808219178082], [1955.8138888888889, 110.6986301369863], [1956.9583333333333, 111.84657534246575], [1956.9583333333333, 107.8958904109589], [1958.2472222222223, 109.17808219178082], [1958.2472222222223, 108.56438356164384], [1958.7944444444445, 109.11506849315069], [1958.7944444444445, 109.04109589041096], [1959.7666666666667, 110.01369863013699], [1959.7666666666667, 109.43561643835616], [1959.8972222222221, 109.56712328767124], [1959.8972222222221, 108.46575342465754], [1964.9972222222223, 113.56438356164384], [1964.9972222222223, 109.63561643835617], [1965.1805555555557, 109.81643835616438], [1965.1805555555557, 109.66301369863014], [1965.5972222222222, 110.08219178082192], [1965.5972222222222, 109.57808219178082], [1966.025, 110.00821917808219], [1966.025, 109.57260273972602], [1968.2222222222222, 111.76712328767124], [1968.2222222222222, 111.17534246575343], [1968.4583333333333, 111.41369863013699], [1968.4583333333333, 110.65205479452055], [1969.3416666666667, 111.53150684931506], [1969.3416666666667, 111.23835616438356], [1970.0277777777778, 111.92876712328767], [1970.0277777777778, 109.4958904109589], [1973.1555555555556, 112.62465753424658], [1973.1555555555556, 111.63561643835617], [1973.6305555555555, 112.10684931506849], [1973.6305555555555, 110.44109589041096], [1973.8333333333333, 110.64383561643835], [1973.8333333333333, 110.59726027397261], [1975.4166666666667, 112.17808219178082], [1975.4166666666667, 111.81917808219178], [1976.875, 113.28219178082192], [1976.875, 110.38082191780822], [1977.9194444444445, 111.42465753424658], [1977.9194444444445, 111.33424657534246], [1978.3166666666666, 111.72876712328767], [1978.3166666666666, 111.03013698630137], [1981.0583333333334, 113.77534246575343], [1981.0583333333334, 112.05479452054794], [1981.1861111111111, 112.17808219178082], [1981.1861111111111, 111.53698630136986], [1982.8666666666666, 113.22191780821917], [1982.8666666666666, 112.5068493150685], [1983.7833333333333, 113.42191780821918], [1983.7833333333333, 113.26301369863013], [1985.125, 114.6082191780822], [1985.125, 113.53972602739726], [1986.8055555555557, 115.21643835616439], [1986.8055555555557, 113.3945205479452], [1987.0861111111112, 113.67945205479452], [1987.0861111111112, 113.67123287671232], [1987.9888888888888, 114.56986301369864], [1987.9888888888888, 114.21369863013699], [1988.0277777777778, 114.25479452054795], [1988.0277777777778, 112.88767123287671], [1997.5916666666667, 122.44931506849315], [1997.5916666666667, 116.93150684931507], [1998.2916666666667, 117.63013698630137], [1998.2916666666667, 117.55890410958904], [1999.9972222222223, 119.26575342465753], [1999.9972222222223, 114.14246575342466], [2000.8361111111112, 114.98630136986301], [2000.8361111111112, 114.52328767123288], [2001.4305555555557, 115.11506849315069], [2001.4305555555557, 114.37260273972603], [2002.213888888889, 115.15342465753425], [2002.213888888889, 114.33698630136986], [2002.4083333333333, 114.53150684931506], [2002.4083333333333, 114.26849315068493], [2002.638888888889, 114.5013698630137], [2002.638888888889, 113.58356164383562], [2002.9944444444445, 113.93972602739726], [2002.9944444444445, 113.76986301369863], [2003.7416666666666, 114.51780821917808], [2003.7416666666666, 114.37260273972603], [2003.8666666666666, 114.4986301369863], [2003.8666666666666, 114.2027397260274], [2004.411111111111, 114.74520547945205], [2004.411111111111, 114.7068493150685], [2006.6555555555556, 116.95068493150686], [2006.6555555555556, 116.03287671232877], [2006.9444444444443, 116.32328767123288], [2006.9444444444443, 115.30684931506849], [2007.0638888888889, 115.42739726027398], [2007.0638888888889, 114.17260273972603], [2007.075, 114.18356164383562], [2007.075, 114.06575342465753], [2007.6166666666666, 114.6054794520548], [2007.6166666666666, 114.31506849315069], [2008.9027777777778, 115.6027397260274], [2008.9027777777778, 115.21095890410959], [2009.0027777777777, 115.31232876712329], [2009.0027777777777, 114.74246575342465], [2009.6944444444443, 115.43287671232876], [2009.6944444444443, 114.33972602739726], [2010.3361111111112, 114.97808219178083], [2010.3361111111112, 114.20547945205479], [2010.8416666666667, 114.71506849315068], [2010.8416666666667, 114.32328767123288], [2011.4722222222222, 114.95068493150686], [2011.4722222222222, 114.81917808219178], [2012.925, 116.27397260273973], [2012.925, 115.66849315068494], [2012.9611111111112, 115.7041095890411], [2012.9611111111112, 115.66301369863014], [2013.4472222222223, 116.14794520547945], [2013.4472222222223, 115.27123287671233], [2015.25, 117.07397260273973], [2015.25, 116.74246575342465], [2015.263888888889, 116.75616438356164], [2015.263888888889, 115.87123287671233], [2015.4611111111112, 116.06849315068493], [2015.4611111111112, 115.94794520547946], [2016.3638888888888, 116.85205479452055], [2016.3638888888888, 116.45205479452055], [2017.2888888888888, 117.37534246575342], [2017.2888888888888, 117.0986301369863], [2017.7055555555555, 117.51780821917808], [2017.7055555555555, 117.11506849315069], [2018.3055555555557, 117.71232876712328], [2018.3055555555557, 116.96986301369863]]\n",
        "\n",
        "peaks = np.array(listofvalues)[::2]\n",
        "timespeakslows = np.column_stack((peaks, np.array(listofvalues)[1::2, 1]))\n",
        "\n",
        "def llh(t, y, z, alpha, KK, b, c, gamma, kappa, CC, birthage):\n",
        "    def integrand(u):\n",
        "        return np.exp(-kappa * u) * FGGM(u - birthage, KK * np.exp(-alpha * (t - u + birthage - 2000)), b, c, gamma)\n",
        "    integral, _ = quad(integrand, z, y, epsabs=1.48e-09, epsrel=1.48e-09)\n",
        "    return np.log(fGGM(y - birthage, KK * np.exp(-alpha * (t - y + birthage - 2000)), b, c, gamma)) + kappa * (t - z + birthage) + np.log(CC) - CC * np.exp(kappa * (t + birthage)) * integral\n",
        "\n",
        "def loglikelihood(params):\n",
        "    alpha, KK, b,gamma = params\n",
        "    c=0\n",
        "    kappa = .01876\n",
        "    CC = 4.68*10**(-9)\n",
        "    birthage = 30\n",
        "    return -(sum([llh(timespeakslows[i, 0], timespeakslows[i, 1], timespeakslows[i, 2], alpha, KK, b, c, gamma, kappa, CC, birthage) for i in range(timespeakslows.shape[0])]) + np.log(FGGM(timespeakslows[-1, 2] - birthage, KK * np.exp(-alpha * (timespeakslows[-1, 0] - timespeakslows[-1, 2] + birthage - 2000)), b, c, gamma)))\n",
        "\n"
      ]
    },
    {
      "cell_type": "markdown",
      "source": [
        "#Optimization"
      ],
      "metadata": {
        "id": "oXGDfc5szBlo"
      }
    },
    {
      "cell_type": "code",
      "source": [
        "def optimize_parameters(alpha, KK, b, gamma ,no_of_steps=100, tol_factor=0.0001,min_tol=1e-9, max_tol=0.1, tol_treshold=0.001, tol_dec_factor=0.1, tol_inc_factor=1.1):\n",
        "    bounds = [(0, 1)] * 4  # Initialize all bounds to None\n",
        "\n",
        "    # Check if alpha is a float or a tuple with bounds\n",
        "    if isinstance(alpha, tuple):\n",
        "        bounds[0] = alpha\n",
        "        alpha = (alpha[0] + alpha[1]) / 2  # Use the midpoint as the initial value\n",
        "    else:\n",
        "        bounds[0] = (alpha, alpha)  # Fixed value, set bounds to the same value\n",
        "\n",
        "    # Repeat the same process for KK, b, and gamma\n",
        "    if isinstance(KK, tuple):\n",
        "        bounds[1] = KK\n",
        "        KK = (KK[0] + KK[1]) / 2\n",
        "    else:\n",
        "        bounds[1] = (KK, KK)\n",
        "\n",
        "    if isinstance(b, tuple):\n",
        "        bounds[2] = b\n",
        "        b = (b[0] + b[1]) / 2\n",
        "    else:\n",
        "        bounds[2] = (b, b)\n",
        "\n",
        "    if isinstance(gamma, tuple):\n",
        "        bounds[3] = gamma\n",
        "        gamma = (gamma[0] + gamma[1]) / 2\n",
        "    else:\n",
        "        bounds[3] = (gamma, gamma)\n",
        "\n",
        "    initial_params = [alpha, KK, b, gamma]\n",
        "\n",
        "    likeli_scores=[]\n",
        "    for i in tqdm(range(1, no_of_steps+1)):\n",
        "      result = minimize(loglikelihood, initial_params, method='Nelder-Mead', bounds=bounds, tol=tol_factor)\n",
        "      optimized_params = result.x\n",
        "      likeli_scores.append(-loglikelihood(optimized_params))\n",
        "      initial_params = copy.deepcopy(optimized_params)\n",
        "\n",
        "      # Calculate percentage improvement\n",
        "      if i > 1:\n",
        "        improvement = (likeli_scores[-2] - likeli_scores[-1]) / likeli_scores[-2]\n",
        "      else:\n",
        "        improvement = float('inf')\n",
        "\n",
        "      # Adjust tolerance based on improvement\n",
        "      if improvement > tol_treshold:  # Example threshold for significant improvement\n",
        "        tol_factor *= tol_dec_factor  # Decrease tolerance\n",
        "      else:\n",
        "        tol_factor *= tol_inc_factor  # Increase tolerance\n",
        "\n",
        "      # Clamp the tolerance to the minimum value\n",
        "      tol_factor = min(max(tol_factor, min_tol),max_tol)\n",
        "\n",
        "\n",
        "    initial_params=list(initial_params)\n",
        "    initial_params.append(likeli_scores[-1])\n",
        "\n",
        "    return initial_params"
      ],
      "metadata": {
        "id": "HD8TOz3nvfpg"
      },
      "execution_count": null,
      "outputs": []
    },
    {
      "cell_type": "markdown",
      "source": [
        "Each parameter (alpha, K, b, gamma) can take two types of values:\n",
        "\n",
        "* Tuple (e.g., (0,1)): in this case, the parameter value can vary within these bounds during optimization.\n",
        "* Float number (e.g., 0.3): in this case, the parameter is fixed to this value during optimization.\n",
        "\n",
        "The function returns the 4 parameter values corresponding to the best log-likelihood value and the log-likelihood itself.\n",
        "\n",
        "\n",
        "\n"
      ],
      "metadata": {
        "id": "LDwjJdIJzgYu"
      }
    },
    {
      "cell_type": "code",
      "source": [
        "#Itt az alpha 0 és 0.1 között mozoghat, a KK 0.01 és 0.1 között, a b fixálva van 0.333407-re, a gamma pedig 0.395047-re\n",
        "optimize_parameters(alpha=(0,0.1), KK=(0.01,0.1), b=0.333407, gamma=0.395047,no_of_steps=20)"
      ],
      "metadata": {
        "colab": {
          "base_uri": "https://localhost:8080/"
        },
        "id": "4Wb6GcxXwmT-",
        "outputId": "059692a7-71de-4906-820a-5ee07ec87b49"
      },
      "execution_count": null,
      "outputs": [
        {
          "output_type": "stream",
          "name": "stderr",
          "text": [
            "100%|██████████| 20/20 [00:02<00:00,  8.54it/s]\n"
          ]
        },
        {
          "output_type": "execute_result",
          "data": {
            "text/plain": [
              "[0.0, 0.01, 0.333407, 0.395047, -2791.062138997444]"
            ]
          },
          "metadata": {},
          "execution_count": 3
        }
      ]
    },
    {
      "cell_type": "code",
      "source": [
        "optimize_parameters(alpha=(0,.1),KK=(0,.1),b=0.09,gamma=(0,.5),no_of_steps=10)"
      ],
      "metadata": {
        "colab": {
          "base_uri": "https://localhost:8080/"
        },
        "id": "laqfeQ1go7xN",
        "outputId": "65f0e081-ea32-49f7-a0cb-f6cdb67488a3"
      },
      "execution_count": null,
      "outputs": [
        {
          "output_type": "stream",
          "name": "stderr",
          "text": [
            "100%|██████████| 10/10 [00:08<00:00,  1.23it/s]\n"
          ]
        },
        {
          "output_type": "execute_result",
          "data": {
            "text/plain": [
              "[0.011244199142264672,\n",
              " 0.0005949908222626621,\n",
              " 0.09,\n",
              " 0.0806051874013972,\n",
              " -117.68051935136174]"
            ]
          },
          "metadata": {},
          "execution_count": 3
        }
      ]
    },
    {
      "cell_type": "code",
      "source": [
        "optimize_parameters(alpha=(0,.1),KK=(0,.1),b=0.11,gamma=(0,.5),no_of_steps=10)"
      ],
      "metadata": {
        "id": "BU7TWjDSpFOZ",
        "colab": {
          "base_uri": "https://localhost:8080/"
        },
        "outputId": "5a718e54-c99b-4619-fd08-f56fbfbf9e78"
      },
      "execution_count": null,
      "outputs": [
        {
          "output_type": "stream",
          "name": "stderr",
          "text": [
            "\r  0%|          | 0/10 [00:00<?, ?it/s]<ipython-input-1-8b6cce55ceb6>:24: RuntimeWarning: divide by zero encountered in log\n",
            "  return np.log(fGGM(y - birthage, KK * np.exp(-alpha * (t - y + birthage - 2000)), b, c, gamma)) + kappa * (t - z + birthage) + np.log(CC) - CC * np.exp(kappa * (t + birthage)) * integral\n",
            "100%|██████████| 10/10 [00:07<00:00,  1.28it/s]\n"
          ]
        },
        {
          "output_type": "execute_result",
          "data": {
            "text/plain": [
              "[0.013759343697226261,\n",
              " 0.00014952640530406085,\n",
              " 0.11,\n",
              " 0.11171172998277593,\n",
              " -117.50959586167292]"
            ]
          },
          "metadata": {},
          "execution_count": 4
        }
      ]
    },
    {
      "cell_type": "code",
      "source": [
        "optimize_parameters(alpha=(0,.1),KK=(0,.1),b=0.13,gamma=(0,1),no_of_steps=10)"
      ],
      "metadata": {
        "colab": {
          "base_uri": "https://localhost:8080/"
        },
        "id": "Up0oAnSIPSA2",
        "outputId": "9ff5092a-23cc-46ad-d2db-b7b2540508d2"
      },
      "execution_count": null,
      "outputs": [
        {
          "output_type": "stream",
          "name": "stderr",
          "text": [
            "100%|██████████| 10/10 [00:09<00:00,  1.03it/s]\n"
          ]
        },
        {
          "output_type": "execute_result",
          "data": {
            "text/plain": [
              "[0.016278087898448767,\n",
              " 3.6129815206575095e-05,\n",
              " 0.13,\n",
              " 0.14064620498708336,\n",
              " -117.40374956968724]"
            ]
          },
          "metadata": {},
          "execution_count": 6
        }
      ]
    },
    {
      "cell_type": "code",
      "source": [
        "optimize_parameters(alpha=(0,.1),KK=(0,.1),b=0.15,gamma=(0,1),no_of_steps=10)"
      ],
      "metadata": {
        "colab": {
          "base_uri": "https://localhost:8080/"
        },
        "id": "vF-hYejePVzu",
        "outputId": "bbd524e7-3d22-41aa-8906-ecd37bb56f9a"
      },
      "execution_count": null,
      "outputs": [
        {
          "output_type": "stream",
          "name": "stderr",
          "text": [
            "100%|██████████| 10/10 [00:08<00:00,  1.11it/s]\n"
          ]
        },
        {
          "output_type": "execute_result",
          "data": {
            "text/plain": [
              "[0.018796986026110185,\n",
              " 8.500225872389247e-06,\n",
              " 0.15,\n",
              " 0.16807643830184907,\n",
              " -117.33563076775295]"
            ]
          },
          "metadata": {},
          "execution_count": 8
        }
      ]
    },
    {
      "cell_type": "code",
      "source": [],
      "metadata": {
        "id": "0dN6ERXTPcZl"
      },
      "execution_count": null,
      "outputs": []
    }
  ]
}