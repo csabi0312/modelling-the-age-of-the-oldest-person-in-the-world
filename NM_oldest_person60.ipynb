{
  "nbformat": 4,
  "nbformat_minor": 0,
  "metadata": {
    "colab": {
      "provenance": [],
      "include_colab_link": true
    },
    "kernelspec": {
      "name": "python3",
      "display_name": "Python 3"
    },
    "language_info": {
      "name": "python"
    }
  },
  "cells": [
    {
      "cell_type": "markdown",
      "metadata": {
        "id": "view-in-github",
        "colab_type": "text"
      },
      "source": [
        "<a href=\"https://colab.research.google.com/github/csabi0312/modelling-the-age-of-the-oldest-person-in-the-world/blob/main/NM_oldest_person60.ipynb\" target=\"_parent\"><img src=\"https://colab.research.google.com/assets/colab-badge.svg\" alt=\"Open In Colab\"/></a>"
      ]
    },
    {
      "cell_type": "markdown",
      "source": [
        "## Def loglikelihood"
      ],
      "metadata": {
        "id": "oV9_iHZYVZni"
      }
    },
    {
      "cell_type": "code",
      "execution_count": null,
      "metadata": {
        "id": "fXlLAX5Hc4JB"
      },
      "outputs": [],
      "source": [
        "import numpy as np\n",
        "import pandas as pd\n",
        "from scipy.integrate import quad\n",
        "from scipy.optimize import minimize\n",
        "import matplotlib.pyplot as plt\n",
        "import copy\n",
        "from tqdm import tqdm\n",
        "\n",
        "def fGGM(x, a, b, c, gamma):\n",
        "    return (np.exp(-c * x) * (1 + (a * (-1 + np.exp(b * x)) * gamma) / b) ** (-((1 + gamma) / gamma)) * (c * (b - a * gamma) + a * np.exp(b * x) * (b + c * gamma))) / b\n",
        "\n",
        "def FGGM(x, a, b, c, gamma):\n",
        "    return np.exp(-c * x) / (1 + a * gamma * (np.exp(b * x) - 1) / b) ** (1 / gamma)\n",
        "\n",
        "listofvalues = [[1955.8138888888889, 113.17808219178082], [1955.8138888888889, 110.6986301369863], [1956.9583333333333, 111.84657534246575], [1956.9583333333333, 107.8958904109589], [1958.2472222222223, 109.17808219178082], [1958.2472222222223, 108.56438356164384], [1958.7944444444445, 109.11506849315069], [1958.7944444444445, 109.04109589041096], [1959.7666666666667, 110.01369863013699], [1959.7666666666667, 109.43561643835616], [1959.8972222222221, 109.56712328767124], [1959.8972222222221, 108.46575342465754], [1964.9972222222223, 113.56438356164384], [1964.9972222222223, 109.63561643835617], [1965.1805555555557, 109.81643835616438], [1965.1805555555557, 109.66301369863014], [1965.5972222222222, 110.08219178082192], [1965.5972222222222, 109.57808219178082], [1966.025, 110.00821917808219], [1966.025, 109.57260273972602], [1968.2222222222222, 111.76712328767124], [1968.2222222222222, 111.17534246575343], [1968.4583333333333, 111.41369863013699], [1968.4583333333333, 110.65205479452055], [1969.3416666666667, 111.53150684931506], [1969.3416666666667, 111.23835616438356], [1970.0277777777778, 111.92876712328767], [1970.0277777777778, 109.4958904109589], [1973.1555555555556, 112.62465753424658], [1973.1555555555556, 111.63561643835617], [1973.6305555555555, 112.10684931506849], [1973.6305555555555, 110.44109589041096], [1973.8333333333333, 110.64383561643835], [1973.8333333333333, 110.59726027397261], [1975.4166666666667, 112.17808219178082], [1975.4166666666667, 111.81917808219178], [1976.875, 113.28219178082192], [1976.875, 110.38082191780822], [1977.9194444444445, 111.42465753424658], [1977.9194444444445, 111.33424657534246], [1978.3166666666666, 111.72876712328767], [1978.3166666666666, 111.03013698630137], [1981.0583333333334, 113.77534246575343], [1981.0583333333334, 112.05479452054794], [1981.1861111111111, 112.17808219178082], [1981.1861111111111, 111.53698630136986], [1982.8666666666666, 113.22191780821917], [1982.8666666666666, 112.5068493150685], [1983.7833333333333, 113.42191780821918], [1983.7833333333333, 113.26301369863013], [1985.125, 114.6082191780822], [1985.125, 113.53972602739726], [1986.8055555555557, 115.21643835616439], [1986.8055555555557, 113.3945205479452], [1987.0861111111112, 113.67945205479452], [1987.0861111111112, 113.67123287671232], [1987.9888888888888, 114.56986301369864], [1987.9888888888888, 114.21369863013699], [1988.0277777777778, 114.25479452054795], [1988.0277777777778, 112.88767123287671], [1997.5916666666667, 122.44931506849315], [1997.5916666666667, 116.93150684931507], [1998.2916666666667, 117.63013698630137], [1998.2916666666667, 117.55890410958904], [1999.9972222222223, 119.26575342465753], [1999.9972222222223, 114.14246575342466], [2000.8361111111112, 114.98630136986301], [2000.8361111111112, 114.52328767123288], [2001.4305555555557, 115.11506849315069], [2001.4305555555557, 114.37260273972603], [2002.213888888889, 115.15342465753425], [2002.213888888889, 114.33698630136986], [2002.4083333333333, 114.53150684931506], [2002.4083333333333, 114.26849315068493], [2002.638888888889, 114.5013698630137], [2002.638888888889, 113.58356164383562], [2002.9944444444445, 113.93972602739726], [2002.9944444444445, 113.76986301369863], [2003.7416666666666, 114.51780821917808], [2003.7416666666666, 114.37260273972603], [2003.8666666666666, 114.4986301369863], [2003.8666666666666, 114.2027397260274], [2004.411111111111, 114.74520547945205], [2004.411111111111, 114.7068493150685], [2006.6555555555556, 116.95068493150686], [2006.6555555555556, 116.03287671232877], [2006.9444444444443, 116.32328767123288], [2006.9444444444443, 115.30684931506849], [2007.0638888888889, 115.42739726027398], [2007.0638888888889, 114.17260273972603], [2007.075, 114.18356164383562], [2007.075, 114.06575342465753], [2007.6166666666666, 114.6054794520548], [2007.6166666666666, 114.31506849315069], [2008.9027777777778, 115.6027397260274], [2008.9027777777778, 115.21095890410959], [2009.0027777777777, 115.31232876712329], [2009.0027777777777, 114.74246575342465], [2009.6944444444443, 115.43287671232876], [2009.6944444444443, 114.33972602739726], [2010.3361111111112, 114.97808219178083], [2010.3361111111112, 114.20547945205479], [2010.8416666666667, 114.71506849315068], [2010.8416666666667, 114.32328767123288], [2011.4722222222222, 114.95068493150686], [2011.4722222222222, 114.81917808219178], [2012.925, 116.27397260273973], [2012.925, 115.66849315068494], [2012.9611111111112, 115.7041095890411], [2012.9611111111112, 115.66301369863014], [2013.4472222222223, 116.14794520547945], [2013.4472222222223, 115.27123287671233], [2015.25, 117.07397260273973], [2015.25, 116.74246575342465], [2015.263888888889, 116.75616438356164], [2015.263888888889, 115.87123287671233], [2015.4611111111112, 116.06849315068493], [2015.4611111111112, 115.94794520547946], [2016.3638888888888, 116.85205479452055], [2016.3638888888888, 116.45205479452055], [2017.2888888888888, 117.37534246575342], [2017.2888888888888, 117.0986301369863], [2017.7055555555555, 117.51780821917808], [2017.7055555555555, 117.11506849315069], [2018.3055555555557, 117.71232876712328], [2018.3055555555557, 116.96986301369863]]\n",
        "\n",
        "peaks = np.array(listofvalues)[::2]\n",
        "timespeakslows = np.column_stack((peaks, np.array(listofvalues)[1::2, 1]))\n",
        "\n",
        "def llh(t, y, z, alpha, KK, b, c, gamma, kappa, CC, birthage):\n",
        "    def integrand(u):\n",
        "        return np.exp(-kappa * u) * FGGM(u - birthage, KK * np.exp(-alpha * (t - u + birthage - 2000)), b, c, gamma)\n",
        "    integral, _ = quad(integrand, z, y, epsabs=1.48e-09, epsrel=1.48e-09)\n",
        "    return np.log(fGGM(y - birthage, KK * np.exp(-alpha * (t - y + birthage - 2000)), b, c, gamma)) + kappa * (t - z + birthage) + np.log(CC) - CC * np.exp(kappa * (t + birthage)) * integral\n",
        "\n",
        "def loglikelihood(params):\n",
        "    alpha, KK, b,gamma = params\n",
        "    c=0\n",
        "    CC = 3.249*10**(-11)\n",
        "    birthage = 60\n",
        "    kappa = 0.02085\n",
        "    return -(sum([llh(timespeakslows[i, 0], timespeakslows[i, 1], timespeakslows[i, 2], alpha, KK, b, c, gamma, kappa, CC, birthage) for i in range(timespeakslows.shape[0])]) + np.log(FGGM(timespeakslows[-1, 2] - birthage, KK * np.exp(-alpha * (timespeakslows[-1, 0] - timespeakslows[-1, 2] + birthage - 2000)), b, c, gamma)))\n",
        "\n"
      ]
    },
    {
      "cell_type": "markdown",
      "source": [
        "#Optimization"
      ],
      "metadata": {
        "id": "oXGDfc5szBlo"
      }
    },
    {
      "cell_type": "code",
      "source": [
        "def optimize_parameters(alpha, KK, b, gamma ,no_of_steps=100, tol_factor=0.0001,min_tol=1e-9, max_tol=0.1, tol_treshold=0.001, tol_dec_factor=0.1, tol_inc_factor=1.1):\n",
        "    bounds = [(0, 1)] * 4  # Initialize all bounds to None\n",
        "\n",
        "    # Check if alpha is a float or a tuple with bounds\n",
        "    if isinstance(alpha, tuple):\n",
        "        bounds[0] = alpha\n",
        "        alpha = (alpha[0] + alpha[1]) / 2  # Use the midpoint as the initial value\n",
        "    else:\n",
        "        bounds[0] = (alpha, alpha)  # Fixed value, set bounds to the same value\n",
        "\n",
        "    # Repeat the same process for KK, b, and gamma\n",
        "    if isinstance(KK, tuple):\n",
        "        bounds[1] = KK\n",
        "        KK = (KK[0] + KK[1]) / 2\n",
        "    else:\n",
        "        bounds[1] = (KK, KK)\n",
        "\n",
        "    if isinstance(b, tuple):\n",
        "        bounds[2] = b\n",
        "        b = (b[0] + b[1]) / 2\n",
        "    else:\n",
        "        bounds[2] = (b, b)\n",
        "\n",
        "    if isinstance(gamma, tuple):\n",
        "        bounds[3] = gamma\n",
        "        gamma = (gamma[0] + gamma[1]) / 2\n",
        "    else:\n",
        "        bounds[3] = (gamma, gamma)\n",
        "\n",
        "    initial_params = [alpha, KK, b, gamma]\n",
        "\n",
        "    likeli_scores=[]\n",
        "    for i in tqdm(range(1, no_of_steps+1)):\n",
        "      result = minimize(loglikelihood, initial_params, method='Nelder-Mead', bounds=bounds, tol=tol_factor)\n",
        "      optimized_params = result.x\n",
        "      likeli_scores.append(-loglikelihood(optimized_params))\n",
        "      initial_params = copy.deepcopy(optimized_params)\n",
        "\n",
        "      # Calculate percentage improvement\n",
        "      if i > 1:\n",
        "        improvement = (likeli_scores[-2] - likeli_scores[-1]) / likeli_scores[-2]\n",
        "      else:\n",
        "        improvement = float('inf')\n",
        "\n",
        "      # Adjust tolerance based on improvement\n",
        "      if improvement > tol_treshold:  # Example threshold for significant improvement\n",
        "        tol_factor *= tol_dec_factor  # Decrease tolerance\n",
        "      else:\n",
        "        tol_factor *= tol_inc_factor  # Increase tolerance\n",
        "\n",
        "      # Clamp the tolerance to the minimum value\n",
        "      tol_factor = min(max(tol_factor, min_tol),max_tol)\n",
        "\n",
        "\n",
        "    initial_params=list(initial_params)\n",
        "    initial_params.append(likeli_scores[-1])\n",
        "\n",
        "    return initial_params"
      ],
      "metadata": {
        "id": "HD8TOz3nvfpg"
      },
      "execution_count": null,
      "outputs": []
    },
    {
      "cell_type": "markdown",
      "source": [
        "Each parameter (alpha, K, b, gamma) can take two types of values:\n",
        "\n",
        "* Tuple (e.g., (0,1)): in this case, the parameter value can vary within these bounds during optimization.\n",
        "* Float number (e.g., 0.3): in this case, the parameter is fixed to this value during optimization.\n",
        "\n",
        "The function returns the 4 parameter values corresponding to the best log-likelihood value and the log-likelihood itself.\n"
      ],
      "metadata": {
        "id": "LDwjJdIJzgYu"
      }
    },
    {
      "cell_type": "code",
      "source": [
        "#Itt az alpha 0 és 0.1 között mozoghat, a KK 0.01 és 0.1 között, a b fixálva van 0.333407-re, a gamma pedig 0.395047-re\n",
        "optimize_parameters(alpha=(0,0.1), KK=(0.01,0.1), b=0.333407, gamma=0.395047,no_of_steps=20)"
      ],
      "metadata": {
        "colab": {
          "base_uri": "https://localhost:8080/"
        },
        "id": "4Wb6GcxXwmT-",
        "outputId": "eef3f9bd-b25f-4592-e6f0-a81c26c3d772"
      },
      "execution_count": null,
      "outputs": [
        {
          "output_type": "stream",
          "name": "stderr",
          "text": [
            "100%|██████████| 20/20 [00:01<00:00, 10.60it/s]\n"
          ]
        },
        {
          "output_type": "execute_result",
          "data": {
            "text/plain": [
              "[0.0, 0.01, 0.333407, 0.395047, -1193.1144859363674]"
            ]
          },
          "metadata": {},
          "execution_count": 5
        }
      ]
    },
    {
      "cell_type": "code",
      "source": [
        "optimize_parameters(alpha=(0,0.1),KK=(0.0001,0.1),b=0.137,gamma=0.149,no_of_steps=3)"
      ],
      "metadata": {
        "colab": {
          "base_uri": "https://localhost:8080/"
        },
        "id": "529woo__lMDD",
        "outputId": "5e549cdb-6981-4174-918c-d5b94631200c"
      },
      "execution_count": null,
      "outputs": [
        {
          "output_type": "stream",
          "name": "stderr",
          "text": [
            "100%|██████████| 3/3 [00:03<00:00,  1.11s/it]\n"
          ]
        },
        {
          "output_type": "execute_result",
          "data": {
            "text/plain": [
              "[0.016825210634849576, 0.002112139676756749, 0.137, 0.149, -116.9537767820961]"
            ]
          },
          "metadata": {},
          "execution_count": 8
        }
      ]
    },
    {
      "cell_type": "code",
      "source": [
        "optimize_parameters(alpha=(0,0.1),KK=(0.0001,0.1),b=0.137,gamma=0.149,no_of_steps=50)"
      ],
      "metadata": {
        "colab": {
          "base_uri": "https://localhost:8080/"
        },
        "id": "HpcPi695mqUB",
        "outputId": "f45a2c34-bc20-4ed1-8928-830f66d00740"
      },
      "execution_count": null,
      "outputs": [
        {
          "output_type": "stream",
          "name": "stderr",
          "text": [
            "100%|██████████| 50/50 [00:22<00:00,  2.25it/s]\n"
          ]
        },
        {
          "output_type": "execute_result",
          "data": {
            "text/plain": [
              "[0.016825210634849576, 0.002112139676756749, 0.137, 0.149, -116.9537767820961]"
            ]
          },
          "metadata": {},
          "execution_count": 10
        }
      ]
    },
    {
      "cell_type": "code",
      "source": [
        "optimize_parameters(alpha=0.0168,KK=(0.0001,0.1),b=0.137,gamma=0.149,no_of_steps=10)"
      ],
      "metadata": {
        "colab": {
          "base_uri": "https://localhost:8080/"
        },
        "id": "7XcN730gnPEj",
        "outputId": "16760517-6382-4e80-a0b1-02c8fddb7d41"
      },
      "execution_count": null,
      "outputs": [
        {
          "output_type": "stream",
          "name": "stderr",
          "text": [
            "100%|██████████| 10/10 [00:03<00:00,  3.07it/s]\n"
          ]
        },
        {
          "output_type": "execute_result",
          "data": {
            "text/plain": [
              "[0.0168, 0.002115449459066359, 0.137, 0.149, -116.95401847316104]"
            ]
          },
          "metadata": {},
          "execution_count": 11
        }
      ]
    },
    {
      "cell_type": "code",
      "source": [
        "optimize_parameters(alpha=(0,.1),KK=(0.0001,0.1),b=0.137,gamma=(0,0.2),no_of_steps=10)"
      ],
      "metadata": {
        "colab": {
          "base_uri": "https://localhost:8080/"
        },
        "id": "SB32A2AMngWr",
        "outputId": "84dadba0-9be3-4191-fa0d-9becd2ffe733"
      },
      "execution_count": null,
      "outputs": [
        {
          "output_type": "stream",
          "name": "stderr",
          "text": [
            "100%|██████████| 10/10 [00:09<00:00,  1.07it/s]\n"
          ]
        },
        {
          "output_type": "execute_result",
          "data": {
            "text/plain": [
              "[0.016823189644043873,\n",
              " 0.0021265432808935864,\n",
              " 0.137,\n",
              " 0.1496241565813103,\n",
              " -116.95326030911195]"
            ]
          },
          "metadata": {},
          "execution_count": 12
        }
      ]
    },
    {
      "cell_type": "code",
      "source": [
        "optimize_parameters(alpha=(0,.1),KK=(0.0001,0.1),b=(0,0.5),gamma=(0.01,0.2),no_of_steps=1)"
      ],
      "metadata": {
        "colab": {
          "base_uri": "https://localhost:8080/"
        },
        "id": "LL5hyCR1npGr",
        "outputId": "8b7975d7-570e-4f05-8913-b35bd97ad46f"
      },
      "execution_count": null,
      "outputs": [
        {
          "output_type": "stream",
          "name": "stderr",
          "text": [
            "\r  0%|          | 0/1 [00:00<?, ?it/s]<ipython-input-2-25d037130caf>:13: RuntimeWarning: invalid value encountered in double_scalars\n",
            "  return np.exp(-c * x) / (1 + a * gamma * (np.exp(b * x) - 1) / b) ** (1 / gamma)\n",
            "<ipython-input-2-25d037130caf>:23: IntegrationWarning: The occurrence of roundoff error is detected, which prevents \n",
            "  the requested tolerance from being achieved.  The error may be \n",
            "  underestimated.\n",
            "  integral, _ = quad(integrand, z, y, epsabs=1.48e-09, epsrel=1.48e-09)\n",
            "<ipython-input-2-25d037130caf>:10: RuntimeWarning: invalid value encountered in double_scalars\n",
            "  return (np.exp(-c * x) * (1 + (a * (-1 + np.exp(b * x)) * gamma) / b) ** (-((1 + gamma) / gamma)) * (c * (b - a * gamma) + a * np.exp(b * x) * (b + c * gamma))) / b\n",
            "100%|██████████| 1/1 [00:07<00:00,  7.37s/it]\n"
          ]
        },
        {
          "output_type": "execute_result",
          "data": {
            "text/plain": [
              "[0.021511866426542656,\n",
              " 0.00046860861338790874,\n",
              " 0.17504597218271128,\n",
              " 0.19966088989778963,\n",
              " -116.8551733677509]"
            ]
          },
          "metadata": {},
          "execution_count": 16
        }
      ]
    },
    {
      "cell_type": "code",
      "source": [
        "optimize_parameters(alpha=(0,.1),KK=(0.0001,0.1),b=(0,0.5),gamma=(0.01,0.2),no_of_steps=10)"
      ],
      "metadata": {
        "colab": {
          "base_uri": "https://localhost:8080/"
        },
        "id": "aaE8fcrcny5c",
        "outputId": "aba74b45-0ad8-4cbf-b7e5-df3e17047b3b"
      },
      "execution_count": null,
      "outputs": [
        {
          "output_type": "stream",
          "name": "stderr",
          "text": [
            "\r  0%|          | 0/10 [00:00<?, ?it/s]<ipython-input-2-25d037130caf>:13: RuntimeWarning: invalid value encountered in double_scalars\n",
            "  return np.exp(-c * x) / (1 + a * gamma * (np.exp(b * x) - 1) / b) ** (1 / gamma)\n",
            "<ipython-input-2-25d037130caf>:23: IntegrationWarning: The occurrence of roundoff error is detected, which prevents \n",
            "  the requested tolerance from being achieved.  The error may be \n",
            "  underestimated.\n",
            "  integral, _ = quad(integrand, z, y, epsabs=1.48e-09, epsrel=1.48e-09)\n",
            "<ipython-input-2-25d037130caf>:10: RuntimeWarning: invalid value encountered in double_scalars\n",
            "  return (np.exp(-c * x) * (1 + (a * (-1 + np.exp(b * x)) * gamma) / b) ** (-((1 + gamma) / gamma)) * (c * (b - a * gamma) + a * np.exp(b * x) * (b + c * gamma))) / b\n",
            "100%|██████████| 10/10 [00:14<00:00,  1.42s/it]\n"
          ]
        },
        {
          "output_type": "execute_result",
          "data": {
            "text/plain": [
              "[0.021542226288690937,\n",
              " 0.00046468025964588495,\n",
              " 0.17526697272569106,\n",
              " 0.2,\n",
              " -116.8547152401002]"
            ]
          },
          "metadata": {},
          "execution_count": 17
        }
      ]
    },
    {
      "cell_type": "code",
      "source": [
        "optimize_parameters(alpha=(0,1),KK=(0,1),b=0.09,gamma=(0,1),no_of_steps=10)"
      ],
      "metadata": {
        "colab": {
          "base_uri": "https://localhost:8080/"
        },
        "id": "CVPC5pVLo_sj",
        "outputId": "0bf5c949-f01d-4452-c6ad-6ad241c9727e"
      },
      "execution_count": null,
      "outputs": [
        {
          "output_type": "stream",
          "name": "stderr",
          "text": [
            "100%|██████████| 10/10 [00:11<00:00,  1.15s/it]\n"
          ]
        },
        {
          "output_type": "execute_result",
          "data": {
            "text/plain": [
              "[0.011100984472805159,\n",
              " 0.012085252617053757,\n",
              " 0.09,\n",
              " 0.08026602052545971,\n",
              " -117.26760673749304]"
            ]
          },
          "metadata": {},
          "execution_count": 3
        }
      ]
    },
    {
      "cell_type": "code",
      "source": [
        "optimize_parameters(alpha=(0,3),KK=(0,3),b=0.09,gamma=(0,3),no_of_steps=10)"
      ],
      "metadata": {
        "colab": {
          "base_uri": "https://localhost:8080/"
        },
        "id": "ub3EiYOJpgbQ",
        "outputId": "4d763dba-9188-4b09-8821-eabf4ab1c803"
      },
      "execution_count": null,
      "outputs": [
        {
          "output_type": "stream",
          "name": "stderr",
          "text": [
            "\r  0%|          | 0/10 [00:00<?, ?it/s]<ipython-input-2-25d037130caf>:13: RuntimeWarning: divide by zero encountered in double_scalars\n",
            "  return np.exp(-c * x) / (1 + a * gamma * (np.exp(b * x) - 1) / b) ** (1 / gamma)\n",
            "<ipython-input-2-25d037130caf>:10: RuntimeWarning: divide by zero encountered in double_scalars\n",
            "  return (np.exp(-c * x) * (1 + (a * (-1 + np.exp(b * x)) * gamma) / b) ** (-((1 + gamma) / gamma)) * (c * (b - a * gamma) + a * np.exp(b * x) * (b + c * gamma))) / b\n",
            "100%|██████████| 10/10 [00:13<00:00,  1.35s/it]\n"
          ]
        },
        {
          "output_type": "execute_result",
          "data": {
            "text/plain": [
              "[0.011101163083950904,\n",
              " 0.01208477866240596,\n",
              " 0.09,\n",
              " 0.08026301152135076,\n",
              " -117.26760669285133]"
            ]
          },
          "metadata": {},
          "execution_count": 23
        }
      ]
    },
    {
      "cell_type": "code",
      "source": [
        "optimize_parameters(alpha=(0,.1),KK=(0,.1),b=0.09,gamma=(0,.1),no_of_steps=10)"
      ],
      "metadata": {
        "colab": {
          "base_uri": "https://localhost:8080/"
        },
        "id": "Sq-qC7jaoVRr",
        "outputId": "c550a803-63cf-4fc6-ceea-73fc33aad421"
      },
      "execution_count": null,
      "outputs": [
        {
          "output_type": "stream",
          "name": "stderr",
          "text": [
            "100%|██████████| 10/10 [00:05<00:00,  1.89it/s]\n"
          ]
        },
        {
          "output_type": "execute_result",
          "data": {
            "text/plain": [
              "[0.011045865502069485, 0.014684065280357693, 0.09, 0.1, -118.00190893764626]"
            ]
          },
          "metadata": {},
          "execution_count": 20
        }
      ]
    },
    {
      "cell_type": "code",
      "source": [
        "optimize_parameters(alpha=(0.01,0.02),KK=(0.01,0.02),b=0.09,gamma=(0.05,0.1),no_of_steps=10)"
      ],
      "metadata": {
        "colab": {
          "base_uri": "https://localhost:8080/"
        },
        "id": "UPuleHevrhqZ",
        "outputId": "6ff82415-dd26-4fec-af42-dff82a6e02f5"
      },
      "execution_count": null,
      "outputs": [
        {
          "output_type": "stream",
          "name": "stderr",
          "text": [
            "100%|██████████| 10/10 [00:07<00:00,  1.32it/s]\n"
          ]
        },
        {
          "output_type": "execute_result",
          "data": {
            "text/plain": [
              "[0.01110133450865787,\n",
              " 0.012084660645936217,\n",
              " 0.09,\n",
              " 0.08026381962252223,\n",
              " -117.26760682864827]"
            ]
          },
          "metadata": {},
          "execution_count": 24
        }
      ]
    },
    {
      "cell_type": "code",
      "source": [
        "optimize_parameters(alpha=(0.005,0.05),KK=(0.005,0.03),b=0.09,gamma=(0.02,0.3),no_of_steps=10)"
      ],
      "metadata": {
        "colab": {
          "base_uri": "https://localhost:8080/"
        },
        "id": "lzMxEUnyr7M1",
        "outputId": "4d905211-c3a6-42ec-fc08-92d5061a9353"
      },
      "execution_count": null,
      "outputs": [
        {
          "output_type": "stream",
          "name": "stderr",
          "text": [
            "100%|██████████| 10/10 [00:08<00:00,  1.14it/s]\n"
          ]
        },
        {
          "output_type": "execute_result",
          "data": {
            "text/plain": [
              "[0.011101223143704445,\n",
              " 0.01208444826305248,\n",
              " 0.09,\n",
              " 0.08026113700483775,\n",
              " -117.26760677979718]"
            ]
          },
          "metadata": {},
          "execution_count": 30
        }
      ]
    },
    {
      "cell_type": "code",
      "source": [
        "optimize_parameters(alpha=(0.005,0.05),KK=(0.005,0.03),b=0.1,gamma=(0.02,0.3),no_of_steps=10)"
      ],
      "metadata": {
        "colab": {
          "base_uri": "https://localhost:8080/"
        },
        "id": "bKCObCFasGG0",
        "outputId": "799fb280-5a95-493f-c2fd-b30356d0f0a7"
      },
      "execution_count": null,
      "outputs": [
        {
          "output_type": "stream",
          "name": "stderr",
          "text": [
            "100%|██████████| 10/10 [00:09<00:00,  1.10it/s]\n"
          ]
        },
        {
          "output_type": "execute_result",
          "data": {
            "text/plain": [
              "[0.012302451336039579,\n",
              " 0.008487090914166034,\n",
              " 0.1,\n",
              " 0.0958806712134099,\n",
              " -117.16940381679099]"
            ]
          },
          "metadata": {},
          "execution_count": 37
        }
      ]
    },
    {
      "cell_type": "code",
      "source": [
        "optimize_parameters(alpha=(0.005,0.05),KK=(0.001,0.03),b=0.11,gamma=(0.02,0.3),no_of_steps=10)"
      ],
      "metadata": {
        "colab": {
          "base_uri": "https://localhost:8080/"
        },
        "id": "ewS-TWDNssvl",
        "outputId": "bc2e84e4-06be-42d1-b6d9-21d2fd631090"
      },
      "execution_count": null,
      "outputs": [
        {
          "output_type": "stream",
          "name": "stderr",
          "text": [
            "100%|██████████| 10/10 [00:07<00:00,  1.32it/s]\n"
          ]
        },
        {
          "output_type": "execute_result",
          "data": {
            "text/plain": [
              "[0.013515753510666214,\n",
              " 0.005900871057638203,\n",
              " 0.11,\n",
              " 0.11097774634798435,\n",
              " -117.0920220206464]"
            ]
          },
          "metadata": {},
          "execution_count": 4
        }
      ]
    },
    {
      "cell_type": "code",
      "source": [
        "optimize_parameters(alpha=(0.005,0.05),KK=(0.001,0.03),b=0.13,gamma=(0.02,0.3),no_of_steps=10)"
      ],
      "metadata": {
        "colab": {
          "base_uri": "https://localhost:8080/"
        },
        "id": "SF2vhdCdtNju",
        "outputId": "373e92a2-313e-4db3-dadf-e2f4cb88d3d1"
      },
      "execution_count": null,
      "outputs": [
        {
          "output_type": "stream",
          "name": "stderr",
          "text": [
            "100%|██████████| 10/10 [00:09<00:00,  1.06it/s]\n"
          ]
        },
        {
          "output_type": "execute_result",
          "data": {
            "text/plain": [
              "[0.015962567701940995,\n",
              " 0.002783649132239798,\n",
              " 0.13,\n",
              " 0.1398588849564705,\n",
              " -116.9816735844671]"
            ]
          },
          "metadata": {},
          "execution_count": 5
        }
      ]
    },
    {
      "cell_type": "code",
      "source": [
        "optimize_parameters(alpha=(0.005,0.5),KK=(0,1),b=0.15,gamma=(0.02,0.5),no_of_steps=10)"
      ],
      "metadata": {
        "id": "wmd3QP3utdAk",
        "colab": {
          "base_uri": "https://localhost:8080/"
        },
        "outputId": "668cff36-7a29-46d5-e0e3-772f2d02cb0b"
      },
      "execution_count": null,
      "outputs": [
        {
          "output_type": "stream",
          "name": "stderr",
          "text": [
            "100%|██████████| 10/10 [00:15<00:00,  1.59s/it]\n"
          ]
        },
        {
          "output_type": "execute_result",
          "data": {
            "text/plain": [
              "[0.018423552816753216,\n",
              " 0.0012809129168726795,\n",
              " 0.15,\n",
              " 0.1673735327083936,\n",
              " -116.91056727840339]"
            ]
          },
          "metadata": {},
          "execution_count": 7
        }
      ]
    },
    {
      "cell_type": "code",
      "source": [],
      "metadata": {
        "id": "wkwDxQmnfJad"
      },
      "execution_count": null,
      "outputs": []
    }
  ]
}